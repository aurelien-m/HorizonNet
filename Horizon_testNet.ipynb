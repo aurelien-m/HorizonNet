{
  "nbformat": 4,
  "nbformat_minor": 0,
  "metadata": {
    "colab": {
      "name": "HorizonNet.ipynb",
      "provenance": [],
      "collapsed_sections": [],
      "toc_visible": true
    },
    "kernelspec": {
      "name": "python3",
      "display_name": "Python 3"
    },
    "accelerator": "GPU"
  },
  "cells": [
    {
      "cell_type": "markdown",
      "metadata": {
        "id": "0hqvmXenXBkq",
        "colab_type": "text"
      },
      "source": [
        "Python notebook made with Google Collab. Thanks to the article written at this link : https://towardsdatascience.com/deep-learning-for-self-driving-cars-7f198ef4cfa2\n",
        "\n",
        "### Clonning the project to gather the data"
      ]
    },
    {
      "cell_type": "code",
      "metadata": {
        "id": "XDlStqVRdxfy",
        "colab_type": "code",
        "outputId": "bb87f713-bd74-4084-c5be-eabd02cb9d8b",
        "colab": {
          "base_uri": "https://localhost:8080/",
          "height": 163
        }
      },
      "source": [
        "!git clone https://github.com/aurelien-m/HorizonNet.git"
      ],
      "execution_count": 1,
      "outputs": [
        {
          "output_type": "stream",
          "text": [
            "Cloning into 'HorizonNet'...\n",
            "remote: Enumerating objects: 3, done.\u001b[K\n",
            "remote: Counting objects: 100% (3/3), done.\u001b[K\n",
            "remote: Compressing objects: 100% (3/3), done.\u001b[K\n",
            "remote: Total 955 (delta 0), reused 0 (delta 0), pack-reused 952\u001b[K\n",
            "Receiving objects: 100% (955/955), 569.86 MiB | 15.66 MiB/s, done.\n",
            "Resolving deltas: 100% (5/5), done.\n",
            "Checking out files: 100% (537/537), done.\n"
          ],
          "name": "stdout"
        }
      ]
    },
    {
      "cell_type": "markdown",
      "metadata": {
        "id": "0RmbDa1V1Fth",
        "colab_type": "text"
      },
      "source": [
        "### Importing all the librairies we need"
      ]
    },
    {
      "cell_type": "code",
      "metadata": {
        "id": "qUl_G7k_eLXa",
        "colab_type": "code",
        "colab": {}
      },
      "source": [
        "import cv2\n",
        "from google.colab.patches import cv2_imshow\n",
        "\n",
        "import torch\n",
        "import torch.nn as nn\n",
        "import torch.optim as optim\n",
        "from torch.utils import data\n",
        "from torch.utils.data import DataLoader\n",
        "import torchvision.transforms as transforms\n",
        "\n",
        "import matplotlib.pyplot as plt\n",
        "import numpy as np\n",
        "import pandas as pd\n",
        "\n",
        "import os"
      ],
      "execution_count": 0,
      "outputs": []
    },
    {
      "cell_type": "markdown",
      "metadata": {
        "id": "TTeOqgtp1MxU",
        "colab_type": "text"
      },
      "source": [
        "### Down scalling the images and getting the steering angle"
      ]
    },
    {
      "cell_type": "code",
      "metadata": {
        "id": "8fnxAb6gcxXx",
        "colab_type": "code",
        "colab": {}
      },
      "source": [
        "!mkdir /content/HorizonNet/data_resized/"
      ],
      "execution_count": 0,
      "outputs": []
    },
    {
      "cell_type": "code",
      "metadata": {
        "id": "ON7P5S7dYqYV",
        "colab_type": "code",
        "colab": {}
      },
      "source": [
        "downSizeScale = 4\n",
        "\n",
        "images = [x for x in os.listdir(\"/content/HorizonNet/data/\") if x.endswith(\".png\")]\n",
        "for image in images:\n",
        "  originalImage = cv2.imread('/content/HorizonNet/data/' + str(image), cv2.IMREAD_COLOR)\n",
        "\n",
        "  newWidth, newHeight = originalImage.shape[1] / downSizeScale, originalImage.shape[0] / downSizeScale\n",
        "  newImage = cv2.resize(originalImage, (int(newWidth), int(newHeight)))\n",
        "\n",
        "  cv2.imwrite('/content/HorizonNet/data_resized/' + str(image), newImage)"
      ],
      "execution_count": 0,
      "outputs": []
    },
    {
      "cell_type": "code",
      "metadata": {
        "id": "vfmFtbAW2Ce3",
        "colab_type": "code",
        "outputId": "4f9f3832-18d3-4ef4-9e39-409ec08364b6",
        "colab": {
          "base_uri": "https://localhost:8080/",
          "height": 55
        }
      },
      "source": [
        "my_data = pd.read_csv('/content/HorizonNet/data/inputs.csv')\n",
        "all_data = []\n",
        "\n",
        "for data_car in my_data[['imagefile', 'x']].iterrows():\n",
        "  wheel_angle = ((data_car[1]['x'] * 360) / 65535)\n",
        "  all_data.append((data_car[1]['imagefile'], wheel_angle))\n",
        "\n",
        "print(all_data)"
      ],
      "execution_count": 5,
      "outputs": [
        {
          "output_type": "stream",
          "text": [
            "[('0_image.png', -23.296864271000228), ('1_image.png', 16.30395971618219), ('2_image.png', 59.69512474250401), ('3_image.png', 69.84115358205538), ('4_image.png', 94.74753948271916), ('5_image.png', 75.2300297550927), ('6_image.png', -22.016937514305333), ('7_image.png', 54.43259327077134), ('8_image.png', -28.032043945983062), ('9_image.png', -68.6161593041886), ('10_image.png', 50.840009155413135), ('11_image.png', 64.83131151293202), ('12_image.png', 85.88693064774547), ('13_image.png', 40.44129091325246), ('14_image.png', -24.708628976882583), ('15_image.png', 35.81597619592584), ('16_image.png', 87.81506065461204), ('17_image.png', 85.62874799725337), ('18_image.png', -29.828336003662166), ('19_image.png', -92.56122682536049), ('20_image.png', -94.09384298466469), ('21_image.png', -54.921492332341494), ('22_image.png', -50.31265735866331), ('23_image.png', -60.167544060425726), ('24_image.png', -58.88761730373083), ('25_image.png', 97.05470359349965), ('26_image.png', 132.23346303501947), ('27_image.png', 32.99244678416113), ('28_image.png', 10.140535591668574), ('29_image.png', 15.529411764705882), ('30_image.png', -52.998855573357744), ('31_image.png', -31.61913481345846), ('32_image.png', -47.494621194781416), ('33_image.png', -45.83016708628977), ('34_image.png', -62.85923552300297), ('35_image.png', -89.86953536278324), ('36_image.png', 12.063172350652323), ('37_image.png', 24.77454795147631), ('38_image.png', -0.5108720531013962), ('39_image.png', 13.222247653925383), ('40_image.png', 73.43373769741359), ('41_image.png', 73.6919203479057), ('42_image.png', 76.13092240787365), ('43_image.png', 47.62645914396887), ('44_image.png', -17.792629892423896), ('45_image.png', -62.727397573815516), ('46_image.png', 30.295262073701075), ('47_image.png', -48.00549324788281), ('48_image.png', 39.0240329594873), ('49_image.png', -31.360952162966353), ('50_image.png', -20.22613870450904), ('51_image.png', 101.29549095902952), ('52_image.png', 171.26298924238955), ('53_image.png', -136.47425040054932), ('54_image.png', 100.01007095445182), ('55_image.png', -17.023575188830396), ('56_image.png', 139.29777981231402), ('57_image.png', 12.063172350652323), ('58_image.png', 70.35202563515679), ('59_image.png', 150.33920805676357), ('60_image.png', 75.36186770428016), ('61_image.png', -100.49897001602197), ('62_image.png', -126.8720531013962), ('63_image.png', -97.03822384985122), ('64_image.png', 114.39139391165027), ('65_image.png', 133.90341039139392), ('66_image.png', 15.529411764705882), ('67_image.png', 8.212405584802013), ('68_image.png', -17.66628519111925), ('69_image.png', 60.722362096589606), ('70_image.png', -35.5907530327306), ('71_image.png', -43.90753032730602), ('72_image.png', 15.144884412909132), ('73_image.png', 13.480430304417487), ('74_image.png', -46.599221789883266), ('75_image.png', 15.529411764705882), ('76_image.png', 18.869306477454796), ('77_image.png', 4.361638818951705), ('78_image.png', 68.68207827878233), ('79_image.png', 92.69306477454795), ('80_image.png', -68.48981460288395), ('81_image.png', -97.55458915083543), ('82_image.png', -99.98260471503777), ('83_image.png', -98.70267795834287), ('84_image.png', -89.61684596017395), ('85_image.png', -84.74982833600366), ('86_image.png', -91.66033417257954), ('87_image.png', -87.05149919890135), ('88_image.png', -88.33691920347906), ('89_image.png', -92.04486152437629), ('90_image.png', -96.78553444724193), ('91_image.png', -67.85259784847791), ('92_image.png', -56.454108491645684), ('93_image.png', 96.15930418860151), ('94_image.png', 115.80315861753262), ('95_image.png', 115.41863126573587), ('96_image.png', -18.688029297322043), ('97_image.png', -22.91233691920348), ('98_image.png', 16.430304417486838), ('99_image.png', 3.3344014648661022), ('100_image.png', 31.322499427786678), ('101_image.png', 2.9498741130693524), ('102_image.png', 83.18974593728542), ('103_image.png', 88.58411535820554), ('104_image.png', 100.91096360723277), ('105_image.png', 1.2799267566948958), ('106_image.png', -62.98558022430762), ('107_image.png', 10.65140764476997), ('108_image.png', 102.70725566491188), ('109_image.png', 8.72877088578622), ('110_image.png', 79.85534447241932), ('111_image.png', 24.131837949187457), ('112_image.png', 73.56008239871824), ('113_image.png', 79.98168917372396), ('114_image.png', 81.13527122911421), ('115_image.png', 80.10803387502861), ('116_image.png', -13.952849622339208), ('117_image.png', -91.792172121767), ('118_image.png', -90.5122453650721), ('119_image.png', -45.70382238498512), ('120_image.png', 31.322499427786678), ('121_image.png', 109.50789654383154), ('122_image.png', -12.541084916456855), ('123_image.png', 48.40100709544518), ('124_image.png', -24.708628976882583), ('125_image.png', 40.183108262760356), ('126_image.png', -33.668116273746854), ('127_image.png', -43.396658274204626), ('128_image.png', 9.11329823758297), ('129_image.png', 23.104600595101854), ('130_image.png', -45.18745708400092), ('131_image.png', -67.85259784847791), ('132_image.png', -18.946211947814145), ('133_image.png', -32.13000686655985), ('134_image.png', -40.45227740901808), ('135_image.png', 35.81597619592584), ('136_image.png', 64.57312886243992), ('137_image.png', 53.40535591668574), ('138_image.png', 65.73220416571297), ('139_image.png', 43.00663767452507), ('140_image.png', -12.925612268253605), ('141_image.png', 47.884641794460975), ('142_image.png', -50.5653467612726), ('143_image.png', -7.036850537880522), ('144_image.png', 14.634012359807736), ('145_image.png', 25.290913252460516), ('146_image.png', 36.20050354772259), ('147_image.png', 27.729915312428474), ('148_image.png', 108.22796978713664), ('149_image.png', 156.62897688258184), ('150_image.png', -109.20027466239414), ('151_image.png', 14.117647058823529), ('152_image.png', 26.186312657358663), ('153_image.png', 101.03730830853742), ('154_image.png', 111.56237125200275), ('155_image.png', 17.58388647287709), ('156_image.png', 115.54497596704051), ('157_image.png', 111.56237125200275), ('158_image.png', 73.56008239871824), ('159_image.png', -131.22270542458227), ('160_image.png', -131.48088807507438), ('161_image.png', -17.408102540627144), ('162_image.png', 131.0798809796292), ('163_image.png', 60.33783474479286), ('164_image.png', 85.37605859464408), ('165_image.png', -37.123369192034794), ('166_image.png', -51.71892881666285), ('167_image.png', -22.016937514305333), ('168_image.png', 4.746166170748455), ('169_image.png', -22.275120164797436), ('170_image.png', 10.909590295262074), ('171_image.png', 21.30830853742275), ('172_image.png', 16.688487067978944), ('173_image.png', 16.30395971618219), ('174_image.png', -24.961318379491875), ('175_image.png', -5.756923781185626), ('176_image.png', 19.385671778439), ('177_image.png', 31.838864728770886), ('178_image.png', 79.33897917143511), ('179_image.png', 57.514305333028155), ('180_image.png', -17.149919890135042), ('181_image.png', -63.24376287479973), ('182_image.png', -64.52368963149462), ('183_image.png', -88.33691920347906), ('184_image.png', -79.63012130922408), ('185_image.png', -82.82719157701992), ('186_image.png', -81.29457541771572), ('187_image.png', -72.97230487525749), ('188_image.png', -63.75463492790112), ('189_image.png', -82.95902952620737), ('190_image.png', -76.04303044174868), ('191_image.png', -56.20141908903639), ('192_image.png', -96.91187914854657), ('193_image.png', -85.13435568780041), ('194_image.png', -20.22613870450904), ('195_image.png', -88.58960860608835), ('196_image.png', -74.88944838635844), ('197_image.png', 87.29869535362783), ('198_image.png', 122.73563744563974), ('199_image.png', 119.01121538109408), ('200_image.png', 179.99725337605858), ('201_image.png', -58.11856260013733), ('202_image.png', -21.890592813000687), ('203_image.png', 3.5925841153582057), ('204_image.png', 0.5108720531013962), ('205_image.png', -30.081025406271458), ('206_image.png', -15.617303730830853), ('207_image.png', 105.91531242847333), ('208_image.png', 112.4632639047837), ('209_image.png', 93.3357747768368), ('210_image.png', 23.362783245593956), ('211_image.png', -72.4614328221561), ('212_image.png', 94.36301213092241), ('213_image.png', 109.12336919203479), ('214_image.png', 102.57541771572443), ('215_image.png', -44.29205767910277), ('216_image.png', 67.01213092240788), ('217_image.png', 101.29549095902952), ('218_image.png', 92.0503547722591), ('219_image.png', 19.127489127946898), ('220_image.png', -108.5630579079881), ('221_image.png', -110.1011673151751), ('222_image.png', -105.87136644541084), ('223_image.png', 24.39002059967956), ('224_image.png', -66.31448844129092), ('225_image.png', 104.11902037079423), ('226_image.png', 60.33783474479286), ('227_image.png', 10.525062943465324), ('228_image.png', 10.398718242160678), ('229_image.png', -48.90089265278095), ('230_image.png', -30.465552758068206), ('231_image.png', -32.388189517051956), ('232_image.png', -77.19661249713893), ('233_image.png', -49.28542000457771), ('234_image.png', -7.932249942778668), ('235_image.png', 21.050125886930648), ('236_image.png', 8.72877088578622), ('237_image.png', 5.905241474021516), ('238_image.png', 40.69398031586175), ('239_image.png', 43.77569237811856), ('240_image.png', 36.20050354772259), ('241_image.png', 62.77683680476081), ('242_image.png', 21.82467383840696), ('243_image.png', 52.25177386129549), ('244_image.png', -23.555046921492334), ('245_image.png', -24.450446326390477), ('246_image.png', -0.6372167544060425), ('247_image.png', 15.787594415197987), ('248_image.png', -48.39002059967956), ('249_image.png', -1.2799267566948958), ('250_image.png', -24.83497367818723), ('251_image.png', 82.03616388189518), ('252_image.png', 137.36964980544747), ('253_image.png', -67.97894254978256), ('254_image.png', 18.74296177615015), ('255_image.png', -37.63424124513619), ('256_image.png', 43.00663767452507), ('257_image.png', 109.63973449301899), ('258_image.png', 85.62874799725337), ('259_image.png', -0.12634470130464637), ('260_image.png', 97.05470359349965), ('261_image.png', 113.10597390707255), ('262_image.png', 124.65827420462348), ('263_image.png', -102.67429617761502), ('264_image.png', -115.34721904325933), ('265_image.png', -118.41794460975052), ('266_image.png', -1.7907988097962921), ('267_image.png', 114.39139391165027), ('268_image.png', 119.65392538338293), ('269_image.png', 120.80750743877317), ('270_image.png', -33.40993362325475), ('271_image.png', -47.879148546578165), ('272_image.png', -58.88761730373083), ('273_image.png', 17.073014419775692), ('274_image.png', -27.521171892881668), ('275_image.png', -92.68757152666514), ('276_image.png', -14.848249027237355), ('277_image.png', -24.708628976882583), ('278_image.png', 20.539253833829253), ('279_image.png', 21.692835889219502), ('280_image.png', -28.54840924696727), ('281_image.png', -7.805905241474021), ('282_image.png', 17.199359121080338), ('283_image.png', 79.47081712062257), ('284_image.png', 100.77912565804532), ('285_image.png', -69.3852140077821), ('286_image.png', -46.599221789883266), ('287_image.png', -58.11856260013733), ('288_image.png', -58.76127260242618), ('289_image.png', -88.4632639047837), ('290_image.png', -76.68574044403753), ('291_image.png', -84.23895628290227), ('292_image.png', -65.03456168459601), ('293_image.png', -75.40581368734264), ('294_image.png', -78.73472190432594), ('295_image.png', -83.72808422980087), ('296_image.png', -60.93659876401922), ('297_image.png', -71.81872281986725), ('298_image.png', -80.52552071412222), ('299_image.png', -74.88944838635844), ('300_image.png', -63.622796978713666), ('301_image.png', 74.2027924010071), ('302_image.png', 62.650492103456166), ('303_image.png', 113.10597390707255), ('304_image.png', 35.30510414282445), ('305_image.png', 50.58182650492103), ('306_image.png', 11.552300297550927), ('307_image.png', -0.12634470130464637), ('308_image.png', 3.9771114671549554), ('309_image.png', 6.932478828107119), ('310_image.png', 53.78988326848249), ('311_image.png', 86.78782330052644), ('312_image.png', 77.41634241245136), ('313_image.png', 102.96543831540399), ('314_image.png', -21.247882810711832), ('315_image.png', -50.5653467612726), ('316_image.png', -57.73403524834058), ('317_image.png', 109.76607919432364), ('318_image.png', 116.31403067063401), ('319_image.png', 25.93362325474937), ('320_image.png', 51.60906385900664), ('321_image.png', -39.68322270542458), ('322_image.png', 91.0231174181735), ('323_image.png', 91.40764476997025), ('324_image.png', 55.8443579766537), ('325_image.png', 18.869306477454796), ('326_image.png', -53.6415655756466), ('327_image.png', -103.95422293430991), ('328_image.png', -111.76012817578393), ('329_image.png', -21.890592813000687), ('330_image.png', -19.715266651407646), ('331_image.png', 29.652552071412224), ('332_image.png', 116.31403067063401), ('333_image.png', 101.80636301213092), ('334_image.png', 55.0753032730602), ('335_image.png', 34.66239414053559), ('336_image.png', 66.62760357061113), ('337_image.png', 41.33669031815061), ('338_image.png', -1.2799267566948958), ('339_image.png', -22.52780956740673), ('340_image.png', 16.30395971618219), ('341_image.png', -36.35431448844129), ('342_image.png', -16.001831082627604), ('343_image.png', 15.787594415197987), ('344_image.png', 6.542458228427558), ('345_image.png', 15.919432364385443), ('346_image.png', 33.118791485465785), ('347_image.png', 57.129777981231406), ('348_image.png', -50.439002059967954), ('349_image.png', -36.35431448844129), ('350_image.png', 46.85740444037537), ('351_image.png', 45.319295033188375), ('352_image.png', 10.266880292973221), ('353_image.png', -1.658960860608835), ('354_image.png', -40.325932707713434), ('355_image.png', -23.939574273289082), ('356_image.png', -61.062943465323876), ('357_image.png', 30.93797207598993), ('358_image.png', 27.598077363241018), ('359_image.png', 59.82696269169146), ('360_image.png', 25.417257953765162), ('361_image.png', 29.910734721904326), ('362_image.png', -9.981231403067063), ('363_image.png', 98.34012359807737), ('364_image.png', 133.13435568780042), ('365_image.png', -56.32776379034104), ('366_image.png', -22.275120164797436), ('367_image.png', 7.827878233005264), ('368_image.png', 7.959716182192722), ('369_image.png', 104.37720302128633), ('370_image.png', 84.60151064316777), ('371_image.png', 30.93797207598993), ('372_image.png', 88.06775005722133), ('373_image.png', 116.69855802243076), ('374_image.png', 118.75303273060197), ('375_image.png', -53.3833829251545), ('376_image.png', -108.81574731059739), ('377_image.png', -103.31151293202106), ('378_image.png', -66.18814373998627), ('379_image.png', 71.12108033875029), ('380_image.png', 119.65392538338293), ('381_image.png', 115.02861066605631), ('382_image.png', -32.00366216525521), ('383_image.png', -15.35912108033875), ('384_image.png', -57.607690547035936), ('385_image.png', -53.76791027695125), ('386_image.png', -32.64087891966125), ('387_image.png', 1.1535820553902494), ('388_image.png', 3.9771114671549554), ('389_image.png', -34.948043030441745), ('390_image.png', 7.0588235294117645), ('391_image.png', -54.921492332341494), ('392_image.png', 5.515220874341955), ('393_image.png', 3.5925841153582057), ('394_image.png', -35.5907530327306), ('395_image.png', 68.29755092698558), ('396_image.png', 16.04577706569009), ('397_image.png', -45.57198443579767), ('398_image.png', -57.355001144426645), ('399_image.png', -73.86770428015564), ('400_image.png', -63.88097962920577), ('401_image.png', -74.76310368505379), ('402_image.png', -73.60952162966353), ('403_image.png', -82.06363012130923), ('404_image.png', -76.04303044174868), ('405_image.png', -76.68574044403753), ('406_image.png', -81.80544747081711), ('407_image.png', -74.63675898374915), ('408_image.png', -78.60288395513848), ('409_image.png', -64.52368963149462), ('410_image.png', -75.27397573815519), ('411_image.png', -13.694666971847104), ('412_image.png', 99.88372625314717), ('413_image.png', 90.25406271458), ('414_image.png', 109.8979171435111), ('415_image.png', 70.868390936141), ('416_image.png', 57.77248798352026), ('417_image.png', -42.62760357061112), ('418_image.png', 3.718928816662852), ('419_image.png', -39.298695353627835), ('420_image.png', -13.694666971847104), ('421_image.png', 76.89997711146715), ('422_image.png', 90.5067521171893), ('423_image.png', 98.85648889906157), ('424_image.png', 67.65484092469673), ('425_image.png', 38.38681620508125), ('426_image.png', -11.392996108949417), ('427_image.png', 38.5131609063859), ('428_image.png', 58.541542687113754), ('429_image.png', 100.77912565804532), ('430_image.png', 85.62874799725337), ('431_image.png', -3.323414969100481), ('432_image.png', 15.787594415197987), ('433_image.png', 83.44792858777753), ('434_image.png', 98.98283360036622), ('435_image.png', 81.51979858091096), ('436_image.png', 90.89677271686885), ('437_image.png', -65.67177843900205), ('438_image.png', -104.33875028610666), ('439_image.png', -86.41428244449531), ('440_image.png', 7.701533531700618), ('441_image.png', -47.75280384527352), ('442_image.png', -47.62096589608606), ('443_image.png', 82.42069123369193), ('444_image.png', 87.81506065461204), ('445_image.png', 88.32593270771343), ('446_image.png', 16.688487067978944), ('447_image.png', 31.580682078278784), ('448_image.png', -59.530327306019686), ('449_image.png', 17.331197070267795), ('450_image.png', 13.222247653925383), ('451_image.png', -60.81025406271458), ('452_image.png', -68.36346990157931), ('453_image.png', -49.54360265506981), ('454_image.png', -19.84161135271229), ('455_image.png', -26.373083085374226), ('456_image.png', 22.85191119249256), ('457_image.png', 57.77248798352026), ('458_image.png', 65.99038681620507), ('459_image.png', 44.29205767910277), ('460_image.png', 20.022888532845045), ('461_image.png', 8.086060883497368), ('462_image.png', -37.381551842526896), ('463_image.png', 14.117647058823529), ('464_image.png', -15.7436484321355), ('465_image.png', 11.03593499656672), ('466_image.png', 5.647058823529412), ('467_image.png', 7.317006179903868), ('468_image.png', -3.070725566491188), ('469_image.png', -3.5815976195925843), ('470_image.png', 110.02426184481575), ('471_image.png', 38.254978255893796), ('472_image.png', -61.57930876630808), ('473_image.png', 51.092698558022434), ('474_image.png', -46.08834973678187), ('475_image.png', 44.418402380407414), ('476_image.png', 156.2444495307851), ('477_image.png', -22.659647516594188), ('478_image.png', 60.21149004348821), ('479_image.png', 103.99267566948959), ('480_image.png', 133.90341039139392), ('481_image.png', -130.20096131837948), ('482_image.png', -128.27832455939574), ('483_image.png', -135.70519569695583), ('484_image.png', 65.47402151522087), ('485_image.png', 114.39139391165027), ('486_image.png', 161.12245365072098), ('487_image.png', 22.209201190203707), ('488_image.png', 37.996795605401694), ('489_image.png', -10.750286106660564), ('490_image.png', -59.27214465552758), ('491_image.png', 9.756008239871825), ('492_image.png', -4.608834973678187), ('493_image.png', -0.8953994048981461), ('494_image.png', 14.375829709315633), ('495_image.png', -68.48981460288395), ('496_image.png', 69.19844357976653), ('497_image.png', 83.44792858777753), ('498_image.png', 48.65369649805447), ('499_image.png', 31.838864728770886), ('500_image.png', -78.86106660563058), ('501_image.png', -83.72808422980087), ('502_image.png', -65.67177843900205), ('503_image.png', -88.84779125658045), ('504_image.png', -78.73472190432594), ('505_image.png', -41.221332112611584), ('506_image.png', 113.36415655756466), ('507_image.png', 118.36850537880522), ('508_image.png', 30.93797207598993), ('509_image.png', 41.72121766994736), ('510_image.png', 29.141680018310826), ('511_image.png', -19.84161135271229), ('512_image.png', -32.5145342183566), ('513_image.png', 9.239642938887616), ('514_image.png', -39.298695353627835), ('515_image.png', 5.773403524834058), ('516_image.png', 75.87273975738155), ('517_image.png', 91.66582742046235), ('518_image.png', 72.28015564202335), ('519_image.png', 110.02426184481575), ('520_image.png', 82.42069123369193), ('521_image.png', -12.79926756694896), ('522_image.png', -54.40512703135729), ('523_image.png', 115.41863126573587), ('524_image.png', 110.92515449759671), ('525_image.png', 36.20050354772259), ('526_image.png', 29.26802471961547), ('527_image.png', 98.08194094758527), ('528_image.png', 67.52849622339208), ('529_image.png', -20.352483405813686), ('530_image.png', -107.15129320210575), ('531_image.png', -116.24261844815747), ('532_image.png', -45.70382238498512), ('533_image.png', -74.76310368505379)]\n"
          ],
          "name": "stdout"
        }
      ]
    },
    {
      "cell_type": "markdown",
      "metadata": {
        "id": "Ge3pZP9s1hof",
        "colab_type": "text"
      },
      "source": [
        "### Setting the training and validation datasets"
      ]
    },
    {
      "cell_type": "code",
      "metadata": {
        "id": "sXScsduzlVbx",
        "colab_type": "code",
        "colab": {}
      },
      "source": [
        "train_len = int(0.8 * len(all_data))\n",
        "valid_len = len(all_data) - train_len\n",
        "\n",
        "train_samples, validation_samples = data.random_split(all_data, lengths=[train_len, valid_len])"
      ],
      "execution_count": 0,
      "outputs": []
    },
    {
      "cell_type": "markdown",
      "metadata": {
        "id": "sA2BmA7m2WLr",
        "colab_type": "text"
      },
      "source": [
        "### Defining the augmentation function\n",
        "Takes an image with the angle of the steering wheel then crops it and flip it horizontally."
      ]
    },
    {
      "cell_type": "code",
      "metadata": {
        "id": "7sZTVxoOsPjU",
        "colab_type": "code",
        "colab": {}
      },
      "source": [
        "def augment(image_name, angle):\n",
        "  name = '/content/HorizonNet/data_resized/' + image_name\n",
        "  current_image = cv2.imread(name)\n",
        "  current_image = current_image[65:-25, :, :]\n",
        "\n",
        "  if np.random.rand() < 0.5:\n",
        "    current_image = cv2.flip(current_image, 1)\n",
        "    angle = angle * -1.0\n",
        "  \n",
        "  return current_image, angle"
      ],
      "execution_count": 0,
      "outputs": []
    },
    {
      "cell_type": "markdown",
      "metadata": {
        "id": "_DnTUtD14O2Q",
        "colab_type": "text"
      },
      "source": [
        "### Defining the Dataset class"
      ]
    },
    {
      "cell_type": "code",
      "metadata": {
        "id": "P6YAuavAz7R4",
        "colab_type": "code",
        "colab": {}
      },
      "source": [
        "class Dataset(data.Dataset):\n",
        "\n",
        "  def __init__(self, samples, transform=None):\n",
        "    self.samples = samples\n",
        "    self.transform = transform\n",
        "\n",
        "  def __getitem__(self, index):\n",
        "    batch_sample = self.samples[index]\n",
        "    augmented_image, augmented_angle = augment(batch_sample[0], batch_sample[1])\n",
        "    augmented_image = self.transform(augmented_image)\n",
        "\n",
        "    #print('augmented image: ', augmented_image.shape) #--> (85, 242, 3)\n",
        "\n",
        "    return (augmented_image, augmented_angle)\n",
        "\n",
        "  def __len__(self):\n",
        "    return len(self.samples)"
      ],
      "execution_count": 0,
      "outputs": []
    },
    {
      "cell_type": "code",
      "metadata": {
        "id": "eplTeXpt0E7k",
        "colab_type": "code",
        "colab": {}
      },
      "source": [
        "transformations = transforms.Compose([transforms.Lambda(lambda x: (x / 255.0) - 0.5)])\n",
        "\n",
        "params = {'batch_size': 32,\n",
        "          'shuffle': True,\n",
        "          'num_workers': 4}\n",
        "\n",
        "training_set = Dataset(train_samples, transformations)\n",
        "training_generator = DataLoader(training_set, **params)\n",
        "\n",
        "validation_set = Dataset(validation_samples, transformations)\n",
        "validation_generator = DataLoader(validation_set, **params)"
      ],
      "execution_count": 0,
      "outputs": []
    },
    {
      "cell_type": "markdown",
      "metadata": {
        "id": "QnXsH_eP9ydj",
        "colab_type": "text"
      },
      "source": [
        "### Defining the network"
      ]
    },
    {
      "cell_type": "code",
      "metadata": {
        "id": "yj-IoCbf99qr",
        "colab_type": "code",
        "colab": {}
      },
      "source": [
        "class NetworkLight(nn.Module):\n",
        "\n",
        "  def __init__(self):\n",
        "    super(NetworkLight, self).__init__()\n",
        "    self.conv_layers = nn.Sequential(\n",
        "        nn.Conv2d(3, 24, 3, stride=2),\n",
        "        nn.ELU(),\n",
        "        nn.Conv2d(24, 48, 3, stride=2),\n",
        "        nn.MaxPool2d(4, stride=4),\n",
        "        nn.Dropout(p=0.25)\n",
        "    )\n",
        "    self.linear_layers = nn.Sequential(\n",
        "        nn.Linear(in_features=3360, out_features=50), # 3360 --> figuring out where that came out from ? :o\n",
        "        nn.ELU(),\n",
        "        nn.Linear(in_features=50, out_features=10),\n",
        "        nn.Linear(in_features=10, out_features=1)\n",
        "    )\n",
        "\n",
        "  def forward(self, input):\n",
        "    input = input.view(input.size(0), 3, 85, 242) # input.size() --> torch.Size([32, 85, 242, 3])\n",
        "    output = self.conv_layers(input)\n",
        "    output = output.view(output.size(0), -1) # output.size() --> torch.Size([32, 48, 5, 14])\n",
        "    output = self.linear_layers(output)\n",
        "    return output"
      ],
      "execution_count": 0,
      "outputs": []
    },
    {
      "cell_type": "markdown",
      "metadata": {
        "id": "TL-yR1CB_Tze",
        "colab_type": "text"
      },
      "source": [
        "### Setting up the model"
      ]
    },
    {
      "cell_type": "code",
      "metadata": {
        "id": "pCuVttLO-k9r",
        "colab_type": "code",
        "colab": {}
      },
      "source": [
        "model = NetworkLight()\n",
        "optimizer = optim.Adam(model.parameters(), lr=0.0001)\n",
        "\n",
        "criterion = nn.MSELoss()"
      ],
      "execution_count": 0,
      "outputs": []
    },
    {
      "cell_type": "code",
      "metadata": {
        "id": "6LQSvNpZ_Izy",
        "colab_type": "code",
        "outputId": "b84e417f-c1de-4738-a974-6eedd8ca2bda",
        "colab": {
          "base_uri": "https://localhost:8080/",
          "height": 35
        }
      },
      "source": [
        "device = torch.device('cuda' if torch.cuda.is_available() else 'cpu') \n",
        "print('device is: ', device)\n",
        "\n",
        "def toDevice(datas, device):\n",
        "  imgs, angles = datas\n",
        "  #print('imgs size: ', imgs.size())\n",
        "  #print('angles size: ', angles.size())\n",
        "  return imgs.float().to(device), angles.float().to(device)"
      ],
      "execution_count": 105,
      "outputs": [
        {
          "output_type": "stream",
          "text": [
            "device is:  cuda\n"
          ],
          "name": "stdout"
        }
      ]
    },
    {
      "cell_type": "markdown",
      "metadata": {
        "id": "euC-lCvB_ci4",
        "colab_type": "text"
      },
      "source": [
        "### Training"
      ]
    },
    {
      "cell_type": "code",
      "metadata": {
        "id": "w0nPVgOv_eZG",
        "colab_type": "code",
        "outputId": "a1047a3a-0830-4a03-8d5d-5825584ee089",
        "colab": {
          "base_uri": "https://localhost:8080/",
          "height": 417
        }
      },
      "source": [
        "max_epochs = 22\n",
        "for epoch in range(max_epochs):\n",
        "  model.to(device)\n",
        "\n",
        "  # Training\n",
        "  train_loss = 0\n",
        "  model.train()\n",
        "  for local_batch, (images, angles) in enumerate(training_generator):\n",
        "    #print('image size:', image.size()) #--> torch.Size([32, 85, 242, 3])\n",
        "    #print('image size:', angle.size()) #--> torch.Size([32])\n",
        "\n",
        "    # Transfer to GPU\n",
        "    datas = toDevice((images, angles), device)\n",
        "\n",
        "    # Model computations\n",
        "    optimizer.zero_grad()\n",
        "\n",
        "    imgs, angle = datas\n",
        "    #print(\"training image: \", imgs.shape)\n",
        "    outputs = model(imgs)\n",
        "    loss = criterion(outputs, angle.unsqueeze(1))\n",
        "    loss.backward()\n",
        "    optimizer.step()\n",
        "\n",
        "    train_loss += loss.data.item()\n",
        "\n",
        "    if local_batch % 100 == 0:\n",
        "      print('Loss: %.3f ' % (train_loss/(local_batch+1)))"
      ],
      "execution_count": 106,
      "outputs": [
        {
          "output_type": "stream",
          "text": [
            "Loss: 4355.042 \n",
            "Loss: 7121.093 \n",
            "Loss: 5509.562 \n",
            "Loss: 5053.421 \n",
            "Loss: 3369.875 \n",
            "Loss: 5006.351 \n",
            "Loss: 4903.132 \n",
            "Loss: 5043.459 \n",
            "Loss: 4999.727 \n",
            "Loss: 5406.239 \n",
            "Loss: 5462.854 \n",
            "Loss: 3193.299 \n",
            "Loss: 4903.310 \n",
            "Loss: 4827.616 \n",
            "Loss: 3823.911 \n",
            "Loss: 5661.630 \n",
            "Loss: 5001.299 \n",
            "Loss: 5108.333 \n",
            "Loss: 4887.521 \n",
            "Loss: 5156.684 \n",
            "Loss: 3469.420 \n",
            "Loss: 5624.591 \n"
          ],
          "name": "stdout"
        }
      ]
    },
    {
      "cell_type": "markdown",
      "metadata": {
        "id": "lDEYel2jmKqM",
        "colab_type": "text"
      },
      "source": [
        "### Validation"
      ]
    },
    {
      "cell_type": "code",
      "metadata": {
        "id": "9vfjIS6rmMAr",
        "colab_type": "code",
        "colab": {
          "base_uri": "https://localhost:8080/",
          "height": 35
        },
        "outputId": "0fa897e4-88e5-4ff3-d414-f16fd52b5ea0"
      },
      "source": [
        "model.eval()\n",
        "valid_loss = 0\n",
        "with torch.set_grad_enabled(False):\n",
        "  for local_batch, (images, angles) in enumerate(validation_generator):\n",
        "    # Transfer to GPU\n",
        "    datas = toDevice((images, angles), device)\n",
        "    imgs, angles = datas\n",
        "\n",
        "    # Model computations\n",
        "    optimizer.zero_grad()\n",
        "\n",
        "    #print(\"Validation image: \", imgs.shape)\n",
        "    outputs = model(imgs)\n",
        "    loss = criterion(outputs, angles.unsqueeze(1))\n",
        "    \n",
        "    valid_loss += loss.data.item()\n",
        "\n",
        "    if local_batch % 100 == 0:\n",
        "      print('Valid Loss: %.3f ' % (valid_loss/(local_batch+1)))"
      ],
      "execution_count": 119,
      "outputs": [
        {
          "output_type": "stream",
          "text": [
            "Valid Loss: 4486.925 \n"
          ],
          "name": "stdout"
        }
      ]
    },
    {
      "cell_type": "code",
      "metadata": {
        "id": "M2R8Kj_DofWN",
        "colab_type": "code",
        "colab": {
          "base_uri": "https://localhost:8080/",
          "height": 272
        },
        "outputId": "f6c47595-d2ff-4f47-e0a5-21131d6537ca"
      },
      "source": [
        "state = {\n",
        "  'model': model.module if device == 'cuda' else model,\n",
        "}\n",
        "\n",
        "torch.save(state, '/content/HorizonNet/horizon_net.h5')"
      ],
      "execution_count": 121,
      "outputs": [
        {
          "output_type": "stream",
          "text": [
            "/usr/local/lib/python3.6/dist-packages/torch/serialization.py:292: UserWarning: Couldn't retrieve source code for container of type NetworkLight. It won't be checked for correctness upon loading.\n",
            "  \"type \" + obj.__name__ + \". It won't be checked \"\n",
            "/usr/local/lib/python3.6/dist-packages/torch/serialization.py:292: UserWarning: Couldn't retrieve source code for container of type Sequential. It won't be checked for correctness upon loading.\n",
            "  \"type \" + obj.__name__ + \". It won't be checked \"\n",
            "/usr/local/lib/python3.6/dist-packages/torch/serialization.py:292: UserWarning: Couldn't retrieve source code for container of type Conv2d. It won't be checked for correctness upon loading.\n",
            "  \"type \" + obj.__name__ + \". It won't be checked \"\n",
            "/usr/local/lib/python3.6/dist-packages/torch/serialization.py:292: UserWarning: Couldn't retrieve source code for container of type ELU. It won't be checked for correctness upon loading.\n",
            "  \"type \" + obj.__name__ + \". It won't be checked \"\n",
            "/usr/local/lib/python3.6/dist-packages/torch/serialization.py:292: UserWarning: Couldn't retrieve source code for container of type MaxPool2d. It won't be checked for correctness upon loading.\n",
            "  \"type \" + obj.__name__ + \". It won't be checked \"\n",
            "/usr/local/lib/python3.6/dist-packages/torch/serialization.py:292: UserWarning: Couldn't retrieve source code for container of type Dropout. It won't be checked for correctness upon loading.\n",
            "  \"type \" + obj.__name__ + \". It won't be checked \"\n",
            "/usr/local/lib/python3.6/dist-packages/torch/serialization.py:292: UserWarning: Couldn't retrieve source code for container of type Linear. It won't be checked for correctness upon loading.\n",
            "  \"type \" + obj.__name__ + \". It won't be checked \"\n"
          ],
          "name": "stderr"
        }
      ]
    }
  ]
}